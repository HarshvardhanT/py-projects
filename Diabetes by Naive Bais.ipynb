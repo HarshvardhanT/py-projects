{
 "cells": [
  {
   "cell_type": "markdown",
   "metadata": {},
   "source": [
    "# Naive bias Classification"
   ]
  },
  {
   "cell_type": "markdown",
   "metadata": {},
   "source": [
    "# Importing dataset and libraries"
   ]
  },
  {
   "cell_type": "code",
   "execution_count": 192,
   "metadata": {},
   "outputs": [],
   "source": [
    "import pandas as pd\n",
    "import numpy as np\n",
    "\n",
    "df=pd.read_csv('data.csv')"
   ]
  },
  {
   "cell_type": "markdown",
   "metadata": {},
   "source": [
    "# Separate the class labels (Insurance) from the features"
   ]
  },
  {
   "cell_type": "code",
   "execution_count": 193,
   "metadata": {},
   "outputs": [],
   "source": [
    "from sklearn.model_selection import train_test_split\n",
    "\n",
    "X = df[['glucose','bloodpressure']]\n",
    "y = df['diabetes']\n",
    "\n",
    "X_train, X_test, y_train, y_test = train_test_split(X, y, test_size = 0.3, random_state = 0)"
   ]
  },
  {
   "cell_type": "code",
   "execution_count": 194,
   "metadata": {},
   "outputs": [
    {
     "data": {
      "text/plain": [
       "((696, 2), (299, 2))"
      ]
     },
     "execution_count": 194,
     "metadata": {},
     "output_type": "execute_result"
    }
   ],
   "source": [
    "X_train.shape, X_test.shape"
   ]
  },
  {
   "cell_type": "markdown",
   "metadata": {},
   "source": [
    "# Step 1: Calculate prior probabilities P(y)"
   ]
  },
  {
   "cell_type": "code",
   "execution_count": 195,
   "metadata": {},
   "outputs": [],
   "source": [
    "prior_prob1 = np.sum(y_train == 0) / len(y_train)\n",
    "prior_prob2 = np.sum(y_train == 1) / len(y_train)"
   ]
  },
  {
   "cell_type": "markdown",
   "metadata": {},
   "source": [
    "# Step 2: Calculate conditional probabilities P(xi|y)\n",
    "# Laplacian smoothing is applied"
   ]
  },
  {
   "cell_type": "code",
   "execution_count": 196,
   "metadata": {},
   "outputs": [],
   "source": [
    "alpha = 1"
   ]
  },
  {
   "cell_type": "markdown",
   "metadata": {},
   "source": [
    "# Calculate mean and standard deviation for each feature for both classes"
   ]
  },
  {
   "cell_type": "code",
   "execution_count": 197,
   "metadata": {},
   "outputs": [],
   "source": [
    "mean1 = X_train[y_train == 0].mean()\n",
    "std1 = X_train[y_train == 0].std()\n",
    "mean2 = X_train[y_train == 1].mean()\n",
    "std2 = X_train[y_train == 1].std()"
   ]
  },
  {
   "cell_type": "markdown",
   "metadata": {},
   "source": [
    "# Step 3: Predict class labels for test instances"
   ]
  },
  {
   "cell_type": "code",
   "execution_count": 198,
   "metadata": {},
   "outputs": [],
   "source": [
    "def predict(X):\n",
    "    predictions = []\n",
    "    for i in range(len(X)):\n",
    "        # Calculate conditional probabilities for both classes\n",
    "        prob_x_given_y0 = (\n",
    "            np.exp(-(X.iloc[i] - mean1) ** 2 / (2 * std1 ** 2)) /\n",
    "            (np.sqrt(2 * np.pi) * std1)\n",
    "        )\n",
    "        prob_x_given_y1 = (\n",
    "            np.exp(-(X.iloc[i] - mean2) ** 2 / (2 * std2 ** 2)) /\n",
    "            (np.sqrt(2 * np.pi) * std2)\n",
    "        )\n",
    "\n",
    "        # Apply Laplacian smoothing\n",
    "        prob_x_given_y0_smoothed = (prob_x_given_y0 + alpha) / (len(X_train) + alpha * 2)\n",
    "        prob_x_given_y1_smoothed = (prob_x_given_y1 + alpha) / (len(X_train) + alpha * 2)\n",
    "\n",
    "        # Calculate the posterior probabilities P(y|x) for both classes\n",
    "        posterior_prob_y0 = prior_prob1 * np.prod(prob_x_given_y0_smoothed)\n",
    "        posterior_prob_y1 = prior_prob2 * np.prod(prob_x_given_y1_smoothed)\n",
    "\n",
    "        # Make the prediction based on the class with the higher posterior probability\n",
    "        if posterior_prob_y0 > posterior_prob_y1:\n",
    "            predictions.append(0)\n",
    "        else:\n",
    "            predictions.append(1)\n",
    "    return predictions"
   ]
  },
  {
   "cell_type": "markdown",
   "metadata": {},
   "source": [
    "# Step 4: Predict class labels for the test set"
   ]
  },
  {
   "cell_type": "code",
   "execution_count": 199,
   "metadata": {},
   "outputs": [],
   "source": [
    "predicted_labels = predict(X_test)"
   ]
  },
  {
   "cell_type": "markdown",
   "metadata": {},
   "source": [
    "# Step 5: Calculate accuracy\n",
    "# Accuracy is very Low"
   ]
  },
  {
   "cell_type": "code",
   "execution_count": 200,
   "metadata": {},
   "outputs": [
    {
     "name": "stdout",
     "output_type": "stream",
     "text": [
      "Accuracy of the Naïve Bayes classifier: 43.81%\n"
     ]
    }
   ],
   "source": [
    "accuracy = np.mean(predicted_labels == y_test)\n",
    "print(f\"Accuracy of the Naïve Bayes classifier: {accuracy * 100:.2f}%\")"
   ]
  },
  {
   "cell_type": "markdown",
   "metadata": {},
   "source": [
    "# To increase Accuracy"
   ]
  },
  {
   "cell_type": "code",
   "execution_count": 201,
   "metadata": {},
   "outputs": [],
   "source": [
    "X_train = train_data[['glucose', 'bloodpressure']]\n",
    "y_train = train_data['diabetes']\n",
    "X_test = test_data[['glucose', 'bloodpressure']]\n",
    "y_test = test_data['diabetes']"
   ]
  },
  {
   "cell_type": "markdown",
   "metadata": {},
   "source": [
    "# Calculate probabilities"
   ]
  },
  {
   "cell_type": "code",
   "execution_count": 202,
   "metadata": {},
   "outputs": [],
   "source": [
    "prior_prob_y0 = np.sum(y_train == 0) / len(y_train)\n",
    "prior_prob_y1 = np.sum(y_train == 1) / len(y_train)"
   ]
  },
  {
   "cell_type": "code",
   "execution_count": 203,
   "metadata": {},
   "outputs": [],
   "source": [
    "alpha = 1"
   ]
  },
  {
   "cell_type": "code",
   "execution_count": 204,
   "metadata": {},
   "outputs": [],
   "source": [
    "mean_y0 = X_train[y_train == 0].mean()\n",
    "std_y0 = X_train[y_train == 0].std()\n",
    "mean_y1 = X_train[y_train == 1].mean()\n",
    "std_y1 = X_train[y_train == 1].std()"
   ]
  },
  {
   "cell_type": "code",
   "execution_count": 205,
   "metadata": {},
   "outputs": [],
   "source": [
    "def predict(X):\n",
    "    predictions = []\n",
    "    for i in range(len(X)):\n",
    "        # Calculate conditional probabilities for both classes\n",
    "        prob_x_given_y0 = (\n",
    "            np.exp(-(X.iloc[i] - mean_y0) ** 2 / (2 * std_y0 ** 2)) /\n",
    "            (np.sqrt(2 * np.pi) * std_y0)\n",
    "        )\n",
    "        prob_x_given_y1 = (\n",
    "            np.exp(-(X.iloc[i] - mean_y1) ** 2 / (2 * std_y1 ** 2)) /\n",
    "            (np.sqrt(2 * np.pi) * std_y1)\n",
    "        )\n",
    "\n",
    "        # Apply Laplacian smoothing\n",
    "        prob_x_given_y0_smoothed = (prob_x_given_y0 + alpha) / (len(X_train) + alpha * 2)\n",
    "        prob_x_given_y1_smoothed = (prob_x_given_y1 + alpha) / (len(X_train) + alpha * 2)\n",
    "\n",
    "        # Calculate the posterior probabilities P(y|x) for both classes\n",
    "        posterior_prob_y0 = prior_prob_y0 * np.prod(prob_x_given_y0_smoothed)\n",
    "        posterior_prob_y1 = prior_prob_y1 * np.prod(prob_x_given_y1_smoothed)\n",
    "\n",
    "        # Make the prediction based on the class with the higher posterior probability\n",
    "        if posterior_prob_y0 > posterior_prob_y1:\n",
    "            predictions.append(0)\n",
    "        else:\n",
    "            predictions.append(1)\n",
    "    return predictions"
   ]
  },
  {
   "cell_type": "code",
   "execution_count": 206,
   "metadata": {},
   "outputs": [],
   "source": [
    "predicted_labels = predict(X_test)"
   ]
  },
  {
   "cell_type": "markdown",
   "metadata": {},
   "source": [
    "# Calculate Accuracy"
   ]
  },
  {
   "cell_type": "code",
   "execution_count": 207,
   "metadata": {},
   "outputs": [
    {
     "name": "stdout",
     "output_type": "stream",
     "text": [
      "Accuracy of the Naïve Bayes classifier: 86.93%\n"
     ]
    }
   ],
   "source": [
    "accuracy = np.mean(predicted_labels == y_test)\n",
    "print(f\"Accuracy of the Naïve Bayes classifier: {accuracy * 100:.2f}%\")"
   ]
  },
  {
   "cell_type": "code",
   "execution_count": 208,
   "metadata": {},
   "outputs": [],
   "source": [
    "df.dropna(inplace=True)"
   ]
  },
  {
   "cell_type": "code",
   "execution_count": 209,
   "metadata": {},
   "outputs": [
    {
     "name": "stdout",
     "output_type": "stream",
     "text": [
      "Accuracy of the Naïve Bayes classifier: 86.93%\n"
     ]
    }
   ],
   "source": [
    "accuracy = np.mean(predicted_labels == y_test)\n",
    "print(f\"Accuracy of the Naïve Bayes classifier: {accuracy * 100:.2f}%\")"
   ]
  },
  {
   "cell_type": "code",
   "execution_count": null,
   "metadata": {},
   "outputs": [],
   "source": []
  },
  {
   "cell_type": "code",
   "execution_count": null,
   "metadata": {},
   "outputs": [],
   "source": []
  }
 ],
 "metadata": {
  "kernelspec": {
   "display_name": "Python 3 (ipykernel)",
   "language": "python",
   "name": "python3"
  },
  "language_info": {
   "codemirror_mode": {
    "name": "ipython",
    "version": 3
   },
   "file_extension": ".py",
   "mimetype": "text/x-python",
   "name": "python",
   "nbconvert_exporter": "python",
   "pygments_lexer": "ipython3",
   "version": "3.9.12"
  }
 },
 "nbformat": 4,
 "nbformat_minor": 2
}
